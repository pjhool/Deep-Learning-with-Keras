{
  "nbformat": 4,
  "nbformat_minor": 0,
  "metadata": {
    "colab": {
      "name": "Keras_Function.ipynb",
      "version": "0.3.2",
      "provenance": [],
      "include_colab_link": true
    },
    "kernelspec": {
      "name": "python3",
      "display_name": "Python 3"
    }
  },
  "cells": [
    {
      "cell_type": "markdown",
      "metadata": {
        "id": "view-in-github",
        "colab_type": "text"
      },
      "source": [
        "<a href=\"https://colab.research.google.com/github/pjhool/Deep-Learning-with-Keras/blob/master/Keras_Function.ipynb\" target=\"_parent\"><img src=\"https://colab.research.google.com/assets/colab-badge.svg\" alt=\"Open In Colab\"/></a>"
      ]
    },
    {
      "metadata": {
        "id": "LITvJLJSk2Aj",
        "colab_type": "code",
        "colab": {}
      },
      "cell_type": "code",
      "source": [
        "# -*- coding: utf-8 -*-\n",
        "from keras.layers import Input\n",
        "from keras.layers.core import Dense\n",
        "from keras.models import Model\n",
        "from keras.layers.core import Activation\n",
        "\n",
        "inputs = Input(shape=(784,))\n",
        "\n",
        "x = Dense(32)(inputs)\n",
        "x = Activation(\"sigmoid\")(x)\n",
        "x = Dense(10)(x)\n",
        "predictions = Activation(\"softmax\")(x)\n",
        "\n",
        "model = Model(inputs=inputs, outputs=predictions)\n",
        "\n",
        "model.compile(loss=\"categorical_crossentropy\", optimizer=\"adam\")\n"
      ],
      "execution_count": 0,
      "outputs": []
    },
    {
      "metadata": {
        "id": "Q5gcG0FtlD4s",
        "colab_type": "code",
        "colab": {}
      },
      "cell_type": "code",
      "source": [
        "from keras.layers import Input\n",
        "from keras.layers.core import Dense\n",
        "from keras.models import Model\n",
        "from keras.layers.core import Activation\n",
        "\n",
        "input1 = Input(shape=(784,))\n",
        "input2 = Input(shape=(784,))\n",
        "\n",
        "x = Dense(32)(input1)\n",
        "x = Activation(\"sigmoid\")(x)\n",
        "x = Dense(10)(x)\n",
        "output1 = Activation(\"softmax\")(x)\n",
        "\n",
        "x = Dense(32)(input2)\n",
        "x = Activation(\"sigmoid\")(x)\n",
        "x = Dense(10)(x)\n",
        "output2 = Activation(\"softmax\")(x)\n",
        "\n",
        "model = Model(inputs=[input1, input2], outputs=[output1, output2])\n",
        "\n",
        "model.compile(loss=\"categorical_crossentropy\", optimizer=\"adam\")\n",
        "© 2019 GitHub, Inc."
      ],
      "execution_count": 0,
      "outputs": []
    }
  ]
}