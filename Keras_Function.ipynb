{
  "nbformat": 4,
  "nbformat_minor": 0,
  "metadata": {
    "colab": {
      "name": "Keras_Function.ipynb",
      "version": "0.3.2",
      "provenance": [],
      "include_colab_link": true
    },
    "kernelspec": {
      "name": "python3",
      "display_name": "Python 3"
    }
  },
  "cells": [
    {
      "cell_type": "markdown",
      "metadata": {
        "id": "view-in-github",
        "colab_type": "text"
      },
      "source": [
        "<a href=\"https://colab.research.google.com/github/pjhool/Deep-Learning-with-Keras/blob/master/Keras_Function.ipynb\" target=\"_parent\"><img src=\"https://colab.research.google.com/assets/colab-badge.svg\" alt=\"Open In Colab\"/></a>"
      ]
    },
    {
      "metadata": {
        "id": "LITvJLJSk2Aj",
        "colab_type": "code",
        "colab": {}
      },
      "cell_type": "code",
      "source": [
        "# -*- coding: utf-8 -*-\n",
        "from keras.layers import Input\n",
        "from keras.layers.core import Dense\n",
        "from keras.models import Model\n",
        "from keras.layers.core import Activation\n",
        "\n",
        "inputs = Input(shape=(784,))\n",
        "\n",
        "x = Dense(32)(inputs)\n",
        "x = Activation(\"sigmoid\")(x)\n",
        "x = Dense(10)(x)\n",
        "predictions = Activation(\"softmax\")(x)\n",
        "\n",
        "model = Model(inputs=inputs, outputs=predictions)\n",
        "\n",
        "model.compile(loss=\"categorical_crossentropy\", optimizer=\"adam\")\n"
      ],
      "execution_count": 0,
      "outputs": []
    },
    {
      "metadata": {
        "id": "Q5gcG0FtlD4s",
        "colab_type": "code",
        "colab": {}
      },
      "cell_type": "code",
      "source": [
        "from keras.layers import Input\n",
        "from keras.layers.core import Dense\n",
        "from keras.models import Model\n",
        "from keras.layers.core import Activation\n",
        "\n",
        "input1 = Input(shape=(784,))\n",
        "input2 = Input(shape=(784,))\n",
        "\n",
        "x = Dense(32)(input1)\n",
        "x = Activation(\"sigmoid\")(x)\n",
        "x = Dense(10)(x)\n",
        "output1 = Activation(\"softmax\")(x)\n",
        "\n",
        "x = Dense(32)(input2)\n",
        "x = Activation(\"sigmoid\")(x)\n",
        "x = Dense(10)(x)\n",
        "output2 = Activation(\"softmax\")(x)\n",
        "\n",
        "model = Model(inputs=[input1, input2], outputs=[output1, output2])\n",
        "\n",
        "model.compile(loss=\"categorical_crossentropy\", optimizer=\"adam\")\n",
        "© 2019 GitHub, Inc."
      ],
      "execution_count": 0,
      "outputs": []
    },
    {
      "metadata": {
        "id": "OS3mZCGeletV",
        "colab_type": "code",
        "colab": {}
      },
      "cell_type": "code",
      "source": [
        "# UCI ML DataSet Air Quality \n",
        "\n",
        "#  http://archive.ics.uci.edu/ml/datasets/air+quality  \n"
      ],
      "execution_count": 0,
      "outputs": []
    },
    {
      "metadata": {
        "id": "e_m92i1WlpAn",
        "colab_type": "code",
        "colab": {}
      },
      "cell_type": "code",
      "source": [
        "# -*- coding: utf-8 -*-\n",
        "from __future__ import division, print_function\n",
        "from keras.layers import Input\n",
        "from keras.layers.core import Dense\n",
        "from keras.models import Model\n",
        "from sklearn.preprocessing import StandardScaler\n",
        "import matplotlib.pyplot as plt\n",
        "import numpy as np\n",
        "import os\n",
        "import pandas as pd\n",
        "\n",
        "DATA_DIR = \"../data\"\n",
        "\n",
        "AIRQUALITY_FILE = os.path.join(DATA_DIR, \"AirQualityUCI.csv\")\n",
        "\n",
        "aqdf = pd.read_csv(AIRQUALITY_FILE, sep=\";\", decimal=\",\", header=0)\n",
        "# remove first and last 2 cols \n",
        "del aqdf[\"#Date\"]\n",
        "del aqdf[\"Time\"]\n",
        "del aqdf[\"Unnamed: 15\"]\n",
        "del aqdf[\"Unnamed: 16\"]\n",
        "# fill NaNs in each column with the mean value\n",
        "aqdf = aqdf.fillna(aqdf.mean())\n",
        "# aqdf.head()\n",
        "\n",
        "Xorig = aqdf.as_matrix()\n",
        "Xorig.shape\n",
        "\n",
        "scaler = StandardScaler()\n",
        "Xscaled = scaler.fit_transform(Xorig)\n",
        "# store these off for predictions with unseen data\n",
        "Xmeans = scaler.mean_\n",
        "Xstds = scaler.scale_\n",
        "\n",
        "y = Xscaled[:, 3]\n",
        "X = np.delete(Xscaled, 3, axis=1)\n",
        "\n",
        "print(X.shape, y.shape, Xmeans.shape, Xstds.shape)\n",
        "\n",
        "train_size = int(0.7 * X.shape[0])\n",
        "Xtrain, Xtest, ytrain, ytest = X[0:train_size], X[train_size:], y[0:train_size], y[train_size:]\n",
        "print(Xtrain.shape, Xtest.shape, ytrain.shape, ytest.shape)\n",
        "\n",
        "# define the network\n",
        "readings = Input(shape=(12,))\n",
        "x = Dense(8, activation=\"relu\", kernel_initializer=\"glorot_uniform\")(readings)\n",
        "benzene = Dense(1, kernel_initializer=\"glorot_uniform\")(x)\n",
        "\n",
        "model = Model(inputs=[readings], outputs=[benzene])\n",
        "model.compile(loss=\"mse\", optimizer=\"adam\")\n",
        "\n",
        "# train network\n",
        "NUM_EPOCHS = 20\n",
        "BATCH_SIZE = 10\n",
        "\n",
        "history = model.fit(Xtrain, ytrain, batch_size=BATCH_SIZE, epochs=NUM_EPOCHS,\n",
        "                   validation_split=0.2)\n",
        "\n",
        "# show some predictions\n",
        "ytest_ = model.predict(Xtest).flatten()\n",
        "for i in range(10):\n",
        "    label = (ytest[i] * Xstds[3]) + Xmeans[3]\n",
        "    prediction = (ytest_[i] * Xstds[3]) + Xmeans[3]\n",
        "    print(\"Benzene Conc. expected: {:.3f}, predicted: {:.3f}\".format(label, prediction))\n",
        "    \n",
        "# plot all predictions\n",
        "plt.plot(np.arange(ytest.shape[0]), (ytest * Xstds[3]) / Xmeans[3], \n",
        "         color=\"b\", label=\"actual\")\n",
        "plt.plot(np.arange(ytest_.shape[0]), (ytest_ * Xstds[3]) / Xmeans[3], \n",
        "         color=\"r\", alpha=0.5, label=\"predicted\")\n",
        "plt.xlabel(\"time\")\n",
        "plt.ylabel(\"C6H6 concentrations\")\n",
        "plt.legend(loc=\"best\")\n",
        "plt.show()"
      ],
      "execution_count": 0,
      "outputs": []
    }
  ]
}